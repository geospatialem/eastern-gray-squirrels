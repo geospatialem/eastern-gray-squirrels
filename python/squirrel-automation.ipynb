{
 "cells": [
  {
   "cell_type": "markdown",
   "metadata": {},
   "source": [
    "## Welcome to your notebook.\n"
   ]
  },
  {
   "cell_type": "markdown",
   "metadata": {},
   "source": [
    "#### Run this cell to connect to your GIS and get started:"
   ]
  },
  {
   "cell_type": "code",
   "execution_count": null,
   "metadata": {
    "trusted": true
   },
   "outputs": [],
   "source": [
    "from arcgis.gis import GIS\n",
    "\n",
    "gis = GIS(\"home\")"
   ]
  },
  {
   "cell_type": "markdown",
   "metadata": {},
   "source": [
    "#### Update the Photo URL field"
   ]
  },
  {
   "cell_type": "code",
   "execution_count": null,
   "metadata": {
    "trusted": true
   },
   "outputs": [],
   "source": [
    "from arcgis.features import FeatureLayer\n",
    "\n",
    "item_id = \"\"  # The item ID of your feature layer\n",
    "layer_index = 0           # Index of the layer in the item which is usually 0 for single-layer services\n",
    "field_to_update = \"Photo_URL\"  # The field you want to populate\n",
    "\n",
    "# Get the feature layer\n",
    "item = gis.content.get(item_id)\n",
    "feature_layer = item.layers[layer_index]  # Get the specific layer[1]\n",
    "\n",
    "# Get attachments as a data frame\n",
    "attachments_df = feature_layer.attachments.search(as_df=True)  # Returns all attachments\n",
    "\n",
    "# Base url for attachments\n",
    "layer_url = feature_layer.url\n",
    "\n",
    "# Loop through the attachments data frame, extract the value, and update the field\n",
    "features_to_update = []\n",
    "for idx, row in attachments_df.iterrows():\n",
    "    oid = row['PARENTOBJECTID']\n",
    "    attachment_id = row['ID']\n",
    "    # Construct the URL to the attachment\n",
    "    attachment_url = f\"{layer_url}/{oid}/attachments/{attachment_id}\"\n",
    "    # Construct update dictionary for this feature\n",
    "    features_to_update.append({\n",
    "        \"attributes\": {\n",
    "            \"OBJECTID\": oid,\n",
    "            field_to_update: attachment_url\n",
    "        }\n",
    "    })\n",
    "\n",
    "# Apply updates\n",
    "if features_to_update:\n",
    "    result = feature_layer.edit_features(updates=features_to_update)\n",
    "    print(f\"Updated {field_to_update} features.\")\n",
    "else:\n",
    "    print(f\"No updates for {field_to_update}.\")"
   ]
  },
  {
   "cell_type": "markdown",
   "metadata": {},
   "source": [
    "#### Translate EN notes to ES"
   ]
  },
  {
   "cell_type": "code",
   "execution_count": null,
   "metadata": {
    "trusted": true
   },
   "outputs": [],
   "source": [
    "from json import loads\n",
    "from requests import get\n",
    "\n",
    "notes_field = \"Notes\" # Notes in English\n",
    "notes_es_field = \"Notes_es\" # Notes in Spanish\n",
    "source_lang = \"en\"\n",
    "target_lang = \"es\"\n",
    "translation_url = f\"https://translate.googleapis.com/translate_a/single?client=gtx&dt=t&sl={source_lang}&tl={target_lang}&q=\"\n",
    "\n",
    "# Search for features that have notes in english\n",
    "where_clause = f\"{notes_field} IS NOT NULL AND {notes_field} <> ''\"\n",
    "features = feature_layer.query(where=where_clause, out_fields=f\"OBJECTID,{notes_field},{notes_es_field}\").features\n",
    "\n",
    "# Apply translation\n",
    "features_to_update = []\n",
    "for feature in features:\n",
    "    notes_value = feature.attributes.get(notes_field, \"\")\n",
    "    if notes_value:\n",
    "        request_result = get(translation_url + notes_value)\n",
    "        notes_es_value = loads(request_result.text)[0][0][0]\n",
    "        features_to_update.append({\n",
    "            \"attributes\": {\n",
    "                \"OBJECTID\": feature.attributes[\"OBJECTID\"],\n",
    "                notes_es_field: notes_es_value\n",
    "            }\n",
    "        })\n",
    "\n",
    "# Apply translation to the feature layer\n",
    "if features_to_update:\n",
    "    result = feature_layer.edit_features(updates=features_to_update)\n",
    "    print(f\"Translated {len(features_to_update)} features.\")\n",
    "else:\n",
    "    print(\"No features to translate.\")"
   ]
  },
  {
   "cell_type": "code",
   "execution_count": null,
   "metadata": {
    "trusted": false
   },
   "outputs": [],
   "source": []
  }
 ],
 "metadata": {
  "esriNotebookRuntime": {
   "notebookRuntimeName": "ArcGIS Notebook Python 3 Standard",
   "notebookRuntimeVersion": "11.0"
  },
  "kernelspec": {
   "display_name": "Python 3 (ipykernel)",
   "language": "python",
   "name": "python3"
  },
  "language_info": {
   "codemirror_mode": {
    "name": "ipython",
    "version": 3
   },
   "file_extension": ".py",
   "mimetype": "text/x-python",
   "name": "python",
   "nbconvert_exporter": "python",
   "pygments_lexer": "ipython3",
   "version": "3.11.11"
  }
 },
 "nbformat": 4,
 "nbformat_minor": 4
}
